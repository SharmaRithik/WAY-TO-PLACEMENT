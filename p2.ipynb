{
 "cells": [
  {
   "cell_type": "code",
   "execution_count": null,
   "metadata": {},
   "outputs": [],
   "source": [
    "\n",
    "reclen=20\n",
    "with open('cities.bin', 'rb') as f:\n",
    "    n = int(input('enter record number: '))\n",
    "    #move file pointer to the end of n-1 record\n",
    "    f.seek(reclen*(n-1))\n",
    "    #get the nth record with 20 chars\n",
    "    str=f.read(reclen)\n",
    "    #convert the byte string into ordinary string\n",
    "    print(str.decode())"
   ]
  }
 ],
 "metadata": {
  "kernelspec": {
   "display_name": "Python 3",
   "language": "python",
   "name": "python3"
  },
  "language_info": {
   "codemirror_mode": {
    "name": "ipython",
    "version": 3
   },
   "file_extension": ".py",
   "mimetype": "text/x-python",
   "name": "python",
   "nbconvert_exporter": "python",
   "pygments_lexer": "ipython3",
   "version": "3.7.3"
  }
 },
 "nbformat": 4,
 "nbformat_minor": 2
}
