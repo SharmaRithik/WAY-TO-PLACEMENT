{
 "cells": [
  {
   "cell_type": "code",
   "execution_count": null,
   "metadata": {},
   "outputs": [],
   "source": [
    "reclen=20\n",
    "with open('cities.bin', 'wb') as f:\n",
    "    n=int(input('how many entries: '))\n",
    "    for i in range(n):\n",
    "        city = input('enter city name: ')\n",
    "        ln=len(city)\n",
    "        city=city + (reclen-ln)*' '\n",
    "        city=city.encode()\n",
    "        f.write(city)"
   ]
  }
 ],
 "metadata": {
  "kernelspec": {
   "display_name": "Python 3",
   "language": "python",
   "name": "python3"
  },
  "language_info": {
   "codemirror_mode": {
    "name": "ipython",
    "version": 3
   },
   "file_extension": ".py",
   "mimetype": "text/x-python",
   "name": "python",
   "nbconvert_exporter": "python",
   "pygments_lexer": "ipython3",
   "version": "3.7.3"
  }
 },
 "nbformat": 4,
 "nbformat_minor": 2
}
