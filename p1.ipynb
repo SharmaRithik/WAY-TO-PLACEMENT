{
 "cells": [
  {
   "cell_type": "code",
   "execution_count": null,
   "metadata": {},
   "outputs": [],
   "source": [
    "#filehandler=open('file name', 'open mode', 'buffering')\n",
    "'''\n",
    "w write data into file, if any data then it would be deleted\n",
    "r read data drom the file\n",
    "a append data from a file, means adding at the end of existing data\n",
    "w+ write and read data of a file. previous daata will be deleted\n",
    "r+ read and write previous data not be deleted\n",
    "a+ append then read data of a file. pointer at the end of the file, file does not exist\n",
    "\n",
    "#it create a new file\n",
    "\n",
    "#f.close\n",
    "\n",
    "#f.write(str)\n",
    "\n",
    "\n",
    "#python program create a file to store character'''\n",
    "\n",
    "f= open('myfile.txt','w')\n",
    "\n",
    "#entrer charcter\n",
    "str=input('enter text:')\n",
    "\n",
    "f.write(str)\n",
    "\n",
    "f.close()"
   ]
  }
 ],
 "metadata": {
  "kernelspec": {
   "display_name": "Python 3",
   "language": "python",
   "name": "python3"
  },
  "language_info": {
   "codemirror_mode": {
    "name": "ipython",
    "version": 3
   },
   "file_extension": ".py",
   "mimetype": "text/x-python",
   "name": "python",
   "nbconvert_exporter": "python",
   "pygments_lexer": "ipython3",
   "version": "3.7.3"
  }
 },
 "nbformat": 4,
 "nbformat_minor": 2
}
